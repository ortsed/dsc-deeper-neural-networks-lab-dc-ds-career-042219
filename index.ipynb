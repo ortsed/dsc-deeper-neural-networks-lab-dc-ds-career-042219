{
 "cells": [
  {
   "cell_type": "markdown",
   "metadata": {},
   "source": [
    "# Deeper Neural Networks - Lab\n",
    "\n",
    "## Introduction\n",
    "\n",
    "In this lesson, we'll dig deeper into the work horse of deep learning, **_Multi-Layer Perceptrons_**! We'll build and train a couple different MLPs with Keras and explore the tradeoffs that come with adding extra hidden layers. We'll also try switching out some of the activation functions we learned about in the previous lesson to see how they affect training and performance. \n",
    "\n",
    "## Getting Started\n",
    "\n",
    "We'll begin by importing everything we need for this lab. Run the cell below \n",
    "to import everything we'll need for this lab. "
   ]
  },
  {
   "cell_type": "code",
   "execution_count": 1,
   "metadata": {},
   "outputs": [
    {
     "name": "stderr",
     "output_type": "stream",
     "text": [
      "Using TensorFlow backend.\n"
     ]
    }
   ],
   "source": [
    "import pandas as pd\n",
    "import numpy as np\n",
    "import matplotlib.pyplot as plt\n",
    "%matplotlib inline\n",
    "import keras\n",
    "from keras.models import Sequential\n",
    "from keras.layers import Dense\n",
    "# from keras.datasets import boston_housing, mnist\n",
    "from sklearn.datasets import load_breast_cancer\n",
    "from sklearn.preprocessing import StandardScaler, LabelBinarizer"
   ]
  },
  {
   "cell_type": "markdown",
   "metadata": {},
   "source": [
    "For this lab, we'll be working with the [Boston Breast Cancer Dataset](https://www.kaggle.com/uciml/breast-cancer-wisconsin-data). Although we're importing this dataset directly from sklearn, the kaggle link above contains a detailed explanation of the dataset, in case you're interested. We recommend taking a minute to familiarize yourself with the dataset before digging in. \n",
    "\n",
    "In the cell below:\n",
    "\n",
    "* Call `load_breast_cancer()` to store the dataset object. \n",
    "* Get the `.data`, `.target`, and `.feature_names` and store them in the appropriate variables below."
   ]
  },
  {
   "cell_type": "code",
   "execution_count": 2,
   "metadata": {},
   "outputs": [],
   "source": [
    "bc_dataset = load_breast_cancer()\n",
    "data = bc_dataset.data\n",
    "target = bc_dataset.target\n",
    "col_names = bc_dataset.feature_names"
   ]
  },
  {
   "cell_type": "markdown",
   "metadata": {},
   "source": [
    "Now, let's create a dataframe so that we can see the data and explore it a bit more easily with the column names attached. \n",
    "\n",
    "In the cell below, create a pandas dataframe and pass in the `data`. Also pass in the `col_names` to the `columns` parameter when creating the dataframe. Then, print the head of the dataframe. "
   ]
  },
  {
   "cell_type": "code",
   "execution_count": 4,
   "metadata": {},
   "outputs": [
    {
     "data": {
      "text/html": [
       "<div>\n",
       "<style scoped>\n",
       "    .dataframe tbody tr th:only-of-type {\n",
       "        vertical-align: middle;\n",
       "    }\n",
       "\n",
       "    .dataframe tbody tr th {\n",
       "        vertical-align: top;\n",
       "    }\n",
       "\n",
       "    .dataframe thead th {\n",
       "        text-align: right;\n",
       "    }\n",
       "</style>\n",
       "<table border=\"1\" class=\"dataframe\">\n",
       "  <thead>\n",
       "    <tr style=\"text-align: right;\">\n",
       "      <th></th>\n",
       "      <th>mean radius</th>\n",
       "      <th>mean texture</th>\n",
       "      <th>mean perimeter</th>\n",
       "      <th>mean area</th>\n",
       "      <th>mean smoothness</th>\n",
       "      <th>mean compactness</th>\n",
       "      <th>mean concavity</th>\n",
       "      <th>mean concave points</th>\n",
       "      <th>mean symmetry</th>\n",
       "      <th>mean fractal dimension</th>\n",
       "      <th>...</th>\n",
       "      <th>worst radius</th>\n",
       "      <th>worst texture</th>\n",
       "      <th>worst perimeter</th>\n",
       "      <th>worst area</th>\n",
       "      <th>worst smoothness</th>\n",
       "      <th>worst compactness</th>\n",
       "      <th>worst concavity</th>\n",
       "      <th>worst concave points</th>\n",
       "      <th>worst symmetry</th>\n",
       "      <th>worst fractal dimension</th>\n",
       "    </tr>\n",
       "  </thead>\n",
       "  <tbody>\n",
       "    <tr>\n",
       "      <th>0</th>\n",
       "      <td>17.99</td>\n",
       "      <td>10.38</td>\n",
       "      <td>122.80</td>\n",
       "      <td>1001.0</td>\n",
       "      <td>0.11840</td>\n",
       "      <td>0.27760</td>\n",
       "      <td>0.3001</td>\n",
       "      <td>0.14710</td>\n",
       "      <td>0.2419</td>\n",
       "      <td>0.07871</td>\n",
       "      <td>...</td>\n",
       "      <td>25.38</td>\n",
       "      <td>17.33</td>\n",
       "      <td>184.60</td>\n",
       "      <td>2019.0</td>\n",
       "      <td>0.1622</td>\n",
       "      <td>0.6656</td>\n",
       "      <td>0.7119</td>\n",
       "      <td>0.2654</td>\n",
       "      <td>0.4601</td>\n",
       "      <td>0.11890</td>\n",
       "    </tr>\n",
       "    <tr>\n",
       "      <th>1</th>\n",
       "      <td>20.57</td>\n",
       "      <td>17.77</td>\n",
       "      <td>132.90</td>\n",
       "      <td>1326.0</td>\n",
       "      <td>0.08474</td>\n",
       "      <td>0.07864</td>\n",
       "      <td>0.0869</td>\n",
       "      <td>0.07017</td>\n",
       "      <td>0.1812</td>\n",
       "      <td>0.05667</td>\n",
       "      <td>...</td>\n",
       "      <td>24.99</td>\n",
       "      <td>23.41</td>\n",
       "      <td>158.80</td>\n",
       "      <td>1956.0</td>\n",
       "      <td>0.1238</td>\n",
       "      <td>0.1866</td>\n",
       "      <td>0.2416</td>\n",
       "      <td>0.1860</td>\n",
       "      <td>0.2750</td>\n",
       "      <td>0.08902</td>\n",
       "    </tr>\n",
       "    <tr>\n",
       "      <th>2</th>\n",
       "      <td>19.69</td>\n",
       "      <td>21.25</td>\n",
       "      <td>130.00</td>\n",
       "      <td>1203.0</td>\n",
       "      <td>0.10960</td>\n",
       "      <td>0.15990</td>\n",
       "      <td>0.1974</td>\n",
       "      <td>0.12790</td>\n",
       "      <td>0.2069</td>\n",
       "      <td>0.05999</td>\n",
       "      <td>...</td>\n",
       "      <td>23.57</td>\n",
       "      <td>25.53</td>\n",
       "      <td>152.50</td>\n",
       "      <td>1709.0</td>\n",
       "      <td>0.1444</td>\n",
       "      <td>0.4245</td>\n",
       "      <td>0.4504</td>\n",
       "      <td>0.2430</td>\n",
       "      <td>0.3613</td>\n",
       "      <td>0.08758</td>\n",
       "    </tr>\n",
       "    <tr>\n",
       "      <th>3</th>\n",
       "      <td>11.42</td>\n",
       "      <td>20.38</td>\n",
       "      <td>77.58</td>\n",
       "      <td>386.1</td>\n",
       "      <td>0.14250</td>\n",
       "      <td>0.28390</td>\n",
       "      <td>0.2414</td>\n",
       "      <td>0.10520</td>\n",
       "      <td>0.2597</td>\n",
       "      <td>0.09744</td>\n",
       "      <td>...</td>\n",
       "      <td>14.91</td>\n",
       "      <td>26.50</td>\n",
       "      <td>98.87</td>\n",
       "      <td>567.7</td>\n",
       "      <td>0.2098</td>\n",
       "      <td>0.8663</td>\n",
       "      <td>0.6869</td>\n",
       "      <td>0.2575</td>\n",
       "      <td>0.6638</td>\n",
       "      <td>0.17300</td>\n",
       "    </tr>\n",
       "    <tr>\n",
       "      <th>4</th>\n",
       "      <td>20.29</td>\n",
       "      <td>14.34</td>\n",
       "      <td>135.10</td>\n",
       "      <td>1297.0</td>\n",
       "      <td>0.10030</td>\n",
       "      <td>0.13280</td>\n",
       "      <td>0.1980</td>\n",
       "      <td>0.10430</td>\n",
       "      <td>0.1809</td>\n",
       "      <td>0.05883</td>\n",
       "      <td>...</td>\n",
       "      <td>22.54</td>\n",
       "      <td>16.67</td>\n",
       "      <td>152.20</td>\n",
       "      <td>1575.0</td>\n",
       "      <td>0.1374</td>\n",
       "      <td>0.2050</td>\n",
       "      <td>0.4000</td>\n",
       "      <td>0.1625</td>\n",
       "      <td>0.2364</td>\n",
       "      <td>0.07678</td>\n",
       "    </tr>\n",
       "  </tbody>\n",
       "</table>\n",
       "<p>5 rows × 30 columns</p>\n",
       "</div>"
      ],
      "text/plain": [
       "   mean radius  mean texture  mean perimeter  mean area  mean smoothness  \\\n",
       "0        17.99         10.38          122.80     1001.0          0.11840   \n",
       "1        20.57         17.77          132.90     1326.0          0.08474   \n",
       "2        19.69         21.25          130.00     1203.0          0.10960   \n",
       "3        11.42         20.38           77.58      386.1          0.14250   \n",
       "4        20.29         14.34          135.10     1297.0          0.10030   \n",
       "\n",
       "   mean compactness  mean concavity  mean concave points  mean symmetry  \\\n",
       "0           0.27760          0.3001              0.14710         0.2419   \n",
       "1           0.07864          0.0869              0.07017         0.1812   \n",
       "2           0.15990          0.1974              0.12790         0.2069   \n",
       "3           0.28390          0.2414              0.10520         0.2597   \n",
       "4           0.13280          0.1980              0.10430         0.1809   \n",
       "\n",
       "   mean fractal dimension           ...             worst radius  \\\n",
       "0                 0.07871           ...                    25.38   \n",
       "1                 0.05667           ...                    24.99   \n",
       "2                 0.05999           ...                    23.57   \n",
       "3                 0.09744           ...                    14.91   \n",
       "4                 0.05883           ...                    22.54   \n",
       "\n",
       "   worst texture  worst perimeter  worst area  worst smoothness  \\\n",
       "0          17.33           184.60      2019.0            0.1622   \n",
       "1          23.41           158.80      1956.0            0.1238   \n",
       "2          25.53           152.50      1709.0            0.1444   \n",
       "3          26.50            98.87       567.7            0.2098   \n",
       "4          16.67           152.20      1575.0            0.1374   \n",
       "\n",
       "   worst compactness  worst concavity  worst concave points  worst symmetry  \\\n",
       "0             0.6656           0.7119                0.2654          0.4601   \n",
       "1             0.1866           0.2416                0.1860          0.2750   \n",
       "2             0.4245           0.4504                0.2430          0.3613   \n",
       "3             0.8663           0.6869                0.2575          0.6638   \n",
       "4             0.2050           0.4000                0.1625          0.2364   \n",
       "\n",
       "   worst fractal dimension  \n",
       "0                  0.11890  \n",
       "1                  0.08902  \n",
       "2                  0.08758  \n",
       "3                  0.17300  \n",
       "4                  0.07678  \n",
       "\n",
       "[5 rows x 30 columns]"
      ]
     },
     "execution_count": 4,
     "metadata": {},
     "output_type": "execute_result"
    }
   ],
   "source": [
    "df = pd.DataFrame(data, columns=col_names)\n",
    "df.head()"
   ]
  },
  {
   "cell_type": "markdown",
   "metadata": {},
   "source": [
    "## Getting the Data Ready for Deep Learning\n",
    "\n",
    "In order to pass this data into a neural network, we'll need to make sure that the data:\n",
    "\n",
    "* Is purely numerical\n",
    "* contains no null values\n",
    "* Is normalized \n",
    "\n",
    "Let's begin by calling the dataframe's `.info()` method to check the datatype of each feature. "
   ]
  },
  {
   "cell_type": "code",
   "execution_count": 5,
   "metadata": {},
   "outputs": [
    {
     "name": "stdout",
     "output_type": "stream",
     "text": [
      "<class 'pandas.core.frame.DataFrame'>\n",
      "RangeIndex: 569 entries, 0 to 568\n",
      "Data columns (total 30 columns):\n",
      "mean radius                569 non-null float64\n",
      "mean texture               569 non-null float64\n",
      "mean perimeter             569 non-null float64\n",
      "mean area                  569 non-null float64\n",
      "mean smoothness            569 non-null float64\n",
      "mean compactness           569 non-null float64\n",
      "mean concavity             569 non-null float64\n",
      "mean concave points        569 non-null float64\n",
      "mean symmetry              569 non-null float64\n",
      "mean fractal dimension     569 non-null float64\n",
      "radius error               569 non-null float64\n",
      "texture error              569 non-null float64\n",
      "perimeter error            569 non-null float64\n",
      "area error                 569 non-null float64\n",
      "smoothness error           569 non-null float64\n",
      "compactness error          569 non-null float64\n",
      "concavity error            569 non-null float64\n",
      "concave points error       569 non-null float64\n",
      "symmetry error             569 non-null float64\n",
      "fractal dimension error    569 non-null float64\n",
      "worst radius               569 non-null float64\n",
      "worst texture              569 non-null float64\n",
      "worst perimeter            569 non-null float64\n",
      "worst area                 569 non-null float64\n",
      "worst smoothness           569 non-null float64\n",
      "worst compactness          569 non-null float64\n",
      "worst concavity            569 non-null float64\n",
      "worst concave points       569 non-null float64\n",
      "worst symmetry             569 non-null float64\n",
      "worst fractal dimension    569 non-null float64\n",
      "dtypes: float64(30)\n",
      "memory usage: 133.4 KB\n"
     ]
    }
   ],
   "source": [
    "df.info()\n"
   ]
  },
  {
   "cell_type": "markdown",
   "metadata": {},
   "source": [
    "From the output above, we can see that the entire dataset is already in numerical format. We can also see from the counts that each feature has the same number of entries as the number of rows in the dataframe--that means that no feature contains any null values. Great!\n",
    "\n",
    "Now, let's check to see if our data needs to be normalized. Instead of doing statistical tests here, let's just take a quick look at the head of the dataframe again. Do this in the cell below. "
   ]
  },
  {
   "cell_type": "code",
   "execution_count": 6,
   "metadata": {},
   "outputs": [
    {
     "data": {
      "text/html": [
       "<div>\n",
       "<style scoped>\n",
       "    .dataframe tbody tr th:only-of-type {\n",
       "        vertical-align: middle;\n",
       "    }\n",
       "\n",
       "    .dataframe tbody tr th {\n",
       "        vertical-align: top;\n",
       "    }\n",
       "\n",
       "    .dataframe thead th {\n",
       "        text-align: right;\n",
       "    }\n",
       "</style>\n",
       "<table border=\"1\" class=\"dataframe\">\n",
       "  <thead>\n",
       "    <tr style=\"text-align: right;\">\n",
       "      <th></th>\n",
       "      <th>mean radius</th>\n",
       "      <th>mean texture</th>\n",
       "      <th>mean perimeter</th>\n",
       "      <th>mean area</th>\n",
       "      <th>mean smoothness</th>\n",
       "      <th>mean compactness</th>\n",
       "      <th>mean concavity</th>\n",
       "      <th>mean concave points</th>\n",
       "      <th>mean symmetry</th>\n",
       "      <th>mean fractal dimension</th>\n",
       "      <th>...</th>\n",
       "      <th>worst radius</th>\n",
       "      <th>worst texture</th>\n",
       "      <th>worst perimeter</th>\n",
       "      <th>worst area</th>\n",
       "      <th>worst smoothness</th>\n",
       "      <th>worst compactness</th>\n",
       "      <th>worst concavity</th>\n",
       "      <th>worst concave points</th>\n",
       "      <th>worst symmetry</th>\n",
       "      <th>worst fractal dimension</th>\n",
       "    </tr>\n",
       "  </thead>\n",
       "  <tbody>\n",
       "    <tr>\n",
       "      <th>0</th>\n",
       "      <td>17.99</td>\n",
       "      <td>10.38</td>\n",
       "      <td>122.80</td>\n",
       "      <td>1001.0</td>\n",
       "      <td>0.11840</td>\n",
       "      <td>0.27760</td>\n",
       "      <td>0.3001</td>\n",
       "      <td>0.14710</td>\n",
       "      <td>0.2419</td>\n",
       "      <td>0.07871</td>\n",
       "      <td>...</td>\n",
       "      <td>25.38</td>\n",
       "      <td>17.33</td>\n",
       "      <td>184.60</td>\n",
       "      <td>2019.0</td>\n",
       "      <td>0.1622</td>\n",
       "      <td>0.6656</td>\n",
       "      <td>0.7119</td>\n",
       "      <td>0.2654</td>\n",
       "      <td>0.4601</td>\n",
       "      <td>0.11890</td>\n",
       "    </tr>\n",
       "    <tr>\n",
       "      <th>1</th>\n",
       "      <td>20.57</td>\n",
       "      <td>17.77</td>\n",
       "      <td>132.90</td>\n",
       "      <td>1326.0</td>\n",
       "      <td>0.08474</td>\n",
       "      <td>0.07864</td>\n",
       "      <td>0.0869</td>\n",
       "      <td>0.07017</td>\n",
       "      <td>0.1812</td>\n",
       "      <td>0.05667</td>\n",
       "      <td>...</td>\n",
       "      <td>24.99</td>\n",
       "      <td>23.41</td>\n",
       "      <td>158.80</td>\n",
       "      <td>1956.0</td>\n",
       "      <td>0.1238</td>\n",
       "      <td>0.1866</td>\n",
       "      <td>0.2416</td>\n",
       "      <td>0.1860</td>\n",
       "      <td>0.2750</td>\n",
       "      <td>0.08902</td>\n",
       "    </tr>\n",
       "    <tr>\n",
       "      <th>2</th>\n",
       "      <td>19.69</td>\n",
       "      <td>21.25</td>\n",
       "      <td>130.00</td>\n",
       "      <td>1203.0</td>\n",
       "      <td>0.10960</td>\n",
       "      <td>0.15990</td>\n",
       "      <td>0.1974</td>\n",
       "      <td>0.12790</td>\n",
       "      <td>0.2069</td>\n",
       "      <td>0.05999</td>\n",
       "      <td>...</td>\n",
       "      <td>23.57</td>\n",
       "      <td>25.53</td>\n",
       "      <td>152.50</td>\n",
       "      <td>1709.0</td>\n",
       "      <td>0.1444</td>\n",
       "      <td>0.4245</td>\n",
       "      <td>0.4504</td>\n",
       "      <td>0.2430</td>\n",
       "      <td>0.3613</td>\n",
       "      <td>0.08758</td>\n",
       "    </tr>\n",
       "    <tr>\n",
       "      <th>3</th>\n",
       "      <td>11.42</td>\n",
       "      <td>20.38</td>\n",
       "      <td>77.58</td>\n",
       "      <td>386.1</td>\n",
       "      <td>0.14250</td>\n",
       "      <td>0.28390</td>\n",
       "      <td>0.2414</td>\n",
       "      <td>0.10520</td>\n",
       "      <td>0.2597</td>\n",
       "      <td>0.09744</td>\n",
       "      <td>...</td>\n",
       "      <td>14.91</td>\n",
       "      <td>26.50</td>\n",
       "      <td>98.87</td>\n",
       "      <td>567.7</td>\n",
       "      <td>0.2098</td>\n",
       "      <td>0.8663</td>\n",
       "      <td>0.6869</td>\n",
       "      <td>0.2575</td>\n",
       "      <td>0.6638</td>\n",
       "      <td>0.17300</td>\n",
       "    </tr>\n",
       "    <tr>\n",
       "      <th>4</th>\n",
       "      <td>20.29</td>\n",
       "      <td>14.34</td>\n",
       "      <td>135.10</td>\n",
       "      <td>1297.0</td>\n",
       "      <td>0.10030</td>\n",
       "      <td>0.13280</td>\n",
       "      <td>0.1980</td>\n",
       "      <td>0.10430</td>\n",
       "      <td>0.1809</td>\n",
       "      <td>0.05883</td>\n",
       "      <td>...</td>\n",
       "      <td>22.54</td>\n",
       "      <td>16.67</td>\n",
       "      <td>152.20</td>\n",
       "      <td>1575.0</td>\n",
       "      <td>0.1374</td>\n",
       "      <td>0.2050</td>\n",
       "      <td>0.4000</td>\n",
       "      <td>0.1625</td>\n",
       "      <td>0.2364</td>\n",
       "      <td>0.07678</td>\n",
       "    </tr>\n",
       "  </tbody>\n",
       "</table>\n",
       "<p>5 rows × 30 columns</p>\n",
       "</div>"
      ],
      "text/plain": [
       "   mean radius  mean texture  mean perimeter  mean area  mean smoothness  \\\n",
       "0        17.99         10.38          122.80     1001.0          0.11840   \n",
       "1        20.57         17.77          132.90     1326.0          0.08474   \n",
       "2        19.69         21.25          130.00     1203.0          0.10960   \n",
       "3        11.42         20.38           77.58      386.1          0.14250   \n",
       "4        20.29         14.34          135.10     1297.0          0.10030   \n",
       "\n",
       "   mean compactness  mean concavity  mean concave points  mean symmetry  \\\n",
       "0           0.27760          0.3001              0.14710         0.2419   \n",
       "1           0.07864          0.0869              0.07017         0.1812   \n",
       "2           0.15990          0.1974              0.12790         0.2069   \n",
       "3           0.28390          0.2414              0.10520         0.2597   \n",
       "4           0.13280          0.1980              0.10430         0.1809   \n",
       "\n",
       "   mean fractal dimension           ...             worst radius  \\\n",
       "0                 0.07871           ...                    25.38   \n",
       "1                 0.05667           ...                    24.99   \n",
       "2                 0.05999           ...                    23.57   \n",
       "3                 0.09744           ...                    14.91   \n",
       "4                 0.05883           ...                    22.54   \n",
       "\n",
       "   worst texture  worst perimeter  worst area  worst smoothness  \\\n",
       "0          17.33           184.60      2019.0            0.1622   \n",
       "1          23.41           158.80      1956.0            0.1238   \n",
       "2          25.53           152.50      1709.0            0.1444   \n",
       "3          26.50            98.87       567.7            0.2098   \n",
       "4          16.67           152.20      1575.0            0.1374   \n",
       "\n",
       "   worst compactness  worst concavity  worst concave points  worst symmetry  \\\n",
       "0             0.6656           0.7119                0.2654          0.4601   \n",
       "1             0.1866           0.2416                0.1860          0.2750   \n",
       "2             0.4245           0.4504                0.2430          0.3613   \n",
       "3             0.8663           0.6869                0.2575          0.6638   \n",
       "4             0.2050           0.4000                0.1625          0.2364   \n",
       "\n",
       "   worst fractal dimension  \n",
       "0                  0.11890  \n",
       "1                  0.08902  \n",
       "2                  0.08758  \n",
       "3                  0.17300  \n",
       "4                  0.07678  \n",
       "\n",
       "[5 rows x 30 columns]"
      ]
     },
     "execution_count": 6,
     "metadata": {},
     "output_type": "execute_result"
    }
   ],
   "source": [
    "df.head()"
   ]
  },
  {
   "cell_type": "markdown",
   "metadata": {},
   "source": [
    "As we can clearly see from comparing features like `mean radius` and `mean area`, columns have different scales, which means that we need to normalize our dataset. To do this, we'll make use of sklearn's `StandardScaler()` object. \n",
    "\n",
    "In the cell below, use create a StandardScaler object and use it to create a normalized version of our dataset. "
   ]
  },
  {
   "cell_type": "code",
   "execution_count": 8,
   "metadata": {},
   "outputs": [],
   "source": [
    "scaler = StandardScaler()\n",
    "scaled_data = scaler.fit_transform(df)"
   ]
  },
  {
   "cell_type": "markdown",
   "metadata": {},
   "source": [
    "## Binarizing Our Labels\n",
    "\n",
    "If you took a look at the data dictionary on Kaggle, then you probably noticed the target for this dataset is to predict if the sample is \"M\" (Malignant) or \"B\" (Benign). This means that this is a **_Binary Classification_** task, so we'll need to binarize our labels. \n",
    "\n",
    "In the cell below, make use of sklearn's `LabelBinarizer()` object to create a binarized version of our labels. "
   ]
  },
  {
   "cell_type": "code",
   "execution_count": null,
   "metadata": {},
   "outputs": [],
   "source": []
  },
  {
   "cell_type": "code",
   "execution_count": 11,
   "metadata": {},
   "outputs": [],
   "source": [
    "binarizer = LabelBinarizer()\n",
    "labels = binarizer.fit_transform(target)"
   ]
  },
  {
   "cell_type": "markdown",
   "metadata": {},
   "source": [
    "## Building our MLP\n",
    "\n",
    "Now, we'll build a small **_Multi-Layer Perceptron_** using Keras in the cell below. Our first model will act as a baseline, and then we'll make it bigger to see what happens to model performance. \n",
    "\n",
    "In the cell below:\n",
    "\n",
    "* Create our keras model by instantiating a `Sequential()` object. \n",
    "* Use the model's `.add()` method to add a `Dense` layer with 10 neurons and a `'tanh'` activation function. Also set the `input_shape` attribute to `(30,)`, since we have 30 features. \n",
    "* Since this is a binary classification task, the output layer should be a `Dense` layer with a single neuron, and the activation set to `'sigmoid'`."
   ]
  },
  {
   "cell_type": "code",
   "execution_count": 15,
   "metadata": {},
   "outputs": [],
   "source": [
    "model_1 = Sequential()\n",
    "\n"
   ]
  },
  {
   "cell_type": "code",
   "execution_count": 16,
   "metadata": {},
   "outputs": [],
   "source": [
    "model_1.add(Dense(units=10, activation='tanh', input_shape=(30,)))"
   ]
  },
  {
   "cell_type": "code",
   "execution_count": 17,
   "metadata": {},
   "outputs": [],
   "source": [
    "model_1.add(Dense(units=1, activation='sigmoid'))"
   ]
  },
  {
   "cell_type": "markdown",
   "metadata": {},
   "source": [
    "### Compiling the Model\n",
    "\n",
    "Now that we've created the model, we still have to compile it. \n",
    "\n",
    "In the cell below, compile the model. Set the following hyperparameters:\n",
    "\n",
    "* `loss='binary_crossentropy'`\n",
    "* `optimizer='sgd'`\n",
    "* `metrics=['accuracy']`"
   ]
  },
  {
   "cell_type": "code",
   "execution_count": 18,
   "metadata": {},
   "outputs": [],
   "source": [
    "model_1.compile(loss='binary_crossentropy', optimizer='sgd', metrics=['accuracy'])"
   ]
  },
  {
   "cell_type": "markdown",
   "metadata": {},
   "source": [
    "### Fitting the Model\n",
    "\n",
    "Now, let's fit the model. In addition to our scaled data and our labels, set the following hyperparameters:\n",
    "\n",
    "* `epochs=25`\n",
    "* `batch_size=1`\n",
    "* `validation_split=0.2`"
   ]
  },
  {
   "cell_type": "code",
   "execution_count": 28,
   "metadata": {},
   "outputs": [
    {
     "name": "stdout",
     "output_type": "stream",
     "text": [
      "Train on 455 samples, validate on 114 samples\n",
      "Epoch 1/25\n",
      "455/455 [==============================] - 1s 2ms/step - loss: 0.2292 - acc: 0.9121 - val_loss: 0.1398 - val_acc: 0.9561\n",
      "Epoch 2/25\n",
      "455/455 [==============================] - 1s 2ms/step - loss: 0.1019 - acc: 0.9692 - val_loss: 0.1217 - val_acc: 0.9649\n",
      "Epoch 3/25\n",
      "455/455 [==============================] - 1s 2ms/step - loss: 0.0849 - acc: 0.9758 - val_loss: 0.1156 - val_acc: 0.9386\n",
      "Epoch 4/25\n",
      "455/455 [==============================] - 1s 1ms/step - loss: 0.0753 - acc: 0.9758 - val_loss: 0.1187 - val_acc: 0.9474\n",
      "Epoch 5/25\n",
      "455/455 [==============================] - 1s 1ms/step - loss: 0.0701 - acc: 0.9780 - val_loss: 0.1102 - val_acc: 0.9474\n",
      "Epoch 6/25\n",
      "455/455 [==============================] - 1s 1ms/step - loss: 0.0659 - acc: 0.9780 - val_loss: 0.1031 - val_acc: 0.9561\n",
      "Epoch 7/25\n",
      "455/455 [==============================] - 1s 1ms/step - loss: 0.0624 - acc: 0.9846 - val_loss: 0.1126 - val_acc: 0.9474\n",
      "Epoch 8/25\n",
      "455/455 [==============================] - 1s 1ms/step - loss: 0.0607 - acc: 0.9824 - val_loss: 0.1117 - val_acc: 0.9561\n",
      "Epoch 9/25\n",
      "455/455 [==============================] - 1s 2ms/step - loss: 0.0586 - acc: 0.9824 - val_loss: 0.1027 - val_acc: 0.9649\n",
      "Epoch 10/25\n",
      "455/455 [==============================] - 1s 2ms/step - loss: 0.0565 - acc: 0.9824 - val_loss: 0.1100 - val_acc: 0.9649\n",
      "Epoch 11/25\n",
      "455/455 [==============================] - 1s 2ms/step - loss: 0.0555 - acc: 0.9824 - val_loss: 0.1035 - val_acc: 0.9649\n",
      "Epoch 12/25\n",
      "455/455 [==============================] - 1s 1ms/step - loss: 0.0539 - acc: 0.9824 - val_loss: 0.1110 - val_acc: 0.9561\n",
      "Epoch 13/25\n",
      "455/455 [==============================] - 1s 2ms/step - loss: 0.0531 - acc: 0.9824 - val_loss: 0.1035 - val_acc: 0.9649\n",
      "Epoch 14/25\n",
      "455/455 [==============================] - 1s 1ms/step - loss: 0.0514 - acc: 0.9824 - val_loss: 0.0923 - val_acc: 0.9649\n",
      "Epoch 15/25\n",
      "455/455 [==============================] - 1s 2ms/step - loss: 0.0506 - acc: 0.9868 - val_loss: 0.0986 - val_acc: 0.9649\n",
      "Epoch 16/25\n",
      "455/455 [==============================] - 1s 1ms/step - loss: 0.0502 - acc: 0.9824 - val_loss: 0.0993 - val_acc: 0.9649\n",
      "Epoch 17/25\n",
      "455/455 [==============================] - 1s 2ms/step - loss: 0.0484 - acc: 0.9846 - val_loss: 0.0885 - val_acc: 0.9649\n",
      "Epoch 18/25\n",
      "455/455 [==============================] - 1s 2ms/step - loss: 0.0485 - acc: 0.9846 - val_loss: 0.0872 - val_acc: 0.9649\n",
      "Epoch 19/25\n",
      "455/455 [==============================] - 1s 2ms/step - loss: 0.0475 - acc: 0.9824 - val_loss: 0.0949 - val_acc: 0.9649\n",
      "Epoch 20/25\n",
      "455/455 [==============================] - 1s 1ms/step - loss: 0.0468 - acc: 0.9824 - val_loss: 0.0991 - val_acc: 0.9649\n",
      "Epoch 21/25\n",
      "455/455 [==============================] - 1s 1ms/step - loss: 0.0464 - acc: 0.9824 - val_loss: 0.0928 - val_acc: 0.9649\n",
      "Epoch 22/25\n",
      "455/455 [==============================] - 1s 2ms/step - loss: 0.0454 - acc: 0.9824 - val_loss: 0.0883 - val_acc: 0.9649\n",
      "Epoch 23/25\n",
      "455/455 [==============================] - 1s 2ms/step - loss: 0.0450 - acc: 0.9824 - val_loss: 0.0901 - val_acc: 0.9649\n",
      "Epoch 24/25\n",
      "455/455 [==============================] - 1s 1ms/step - loss: 0.0442 - acc: 0.9824 - val_loss: 0.0878 - val_acc: 0.9649\n",
      "Epoch 25/25\n",
      "455/455 [==============================] - 1s 2ms/step - loss: 0.0435 - acc: 0.9868 - val_loss: 0.0866 - val_acc: 0.9649\n"
     ]
    }
   ],
   "source": [
    "results_1 = model_1.fit(scaled_data, target, epochs=25, batch_size=1, validation_split=.2)"
   ]
  },
  {
   "cell_type": "markdown",
   "metadata": {},
   "source": [
    "Let's quickly plot our validation and accuracy curves and see if we notice anything. Note that when you call a Keras model's `.fit()` method, it returns a Keras callback containing information on the training process of the model. If you examine the callback's `.history` attribute, you'll find a dictionary containing both the training and validation loss, as well as any metrics we specified when compiling the model (in this case, just accuracy). \n",
    "\n",
    "In the cell below, let's quickly create a function for visualizing the loss and accuracy metrics. Since we'll want to do this anytime we train an MLP, its worth wrapping this code in a function so that we can easily reuse it. "
   ]
  },
  {
   "cell_type": "code",
   "execution_count": 23,
   "metadata": {},
   "outputs": [],
   "source": [
    "def visualize_training_results(results):\n",
    "    history = results.history\n",
    "    plt.figure()\n",
    "    plt.plot(history['val_loss'])\n",
    "    plt.plot(history['loss'])\n",
    "    plt.legend(['val_loss', 'loss'])\n",
    "    plt.title('Loss')\n",
    "    plt.xlabel('Epochs')\n",
    "    plt.ylabel('Loss')\n",
    "    plt.show()\n",
    "    \n",
    "    plt.figure()\n",
    "    plt.plot(history['val_acc'])\n",
    "    plt.plot(history['acc'])\n",
    "    plt.legend(['val_acc', 'acc'])\n",
    "    plt.title('Accuracy')\n",
    "    plt.xlabel('Epochs')\n",
    "    plt.ylabel('Accuracy')\n",
    "    plt.show()"
   ]
  },
  {
   "cell_type": "code",
   "execution_count": 29,
   "metadata": {},
   "outputs": [
    {
     "data": {
      "image/png": "[encoded data removed]",
      "text/plain": [
       "<Figure size 432x288 with 1 Axes>"
      ]
     },
     "metadata": {
      "needs_background": "light"
     },
     "output_type": "display_data"
    },
    {
     "data": {
      "image/png": "[encoded data removed]",
      "text/plain": [
       "<Figure size 432x288 with 1 Axes>"
      ]
     },
     "metadata": {
      "needs_background": "light"
     },
     "output_type": "display_data"
    }
   ],
   "source": [
    "visualize_training_results(results_1)"
   ]
  },
  {
   "cell_type": "markdown",
   "metadata": {},
   "source": [
    "## Detecting Overfitting\n",
    "\n",
    "You'll probably notice that the model did pretty well! It's always recommended to visualize your training and validation metrics against each other after training a model. By plotting them like this, we can easily detect that the model is starting to overfit. We can tell that this is happening by seeing the model's training performance steadily improve long after the validation performance plateaus. We can see that in the plots above as the training loss continues to decrease and the training accuracy continues to increase, and the distance between the two lines gets greater as the epochs gets higher. \n",
    "\n",
    "## Iterating on the Model\n",
    "\n",
    "By adding another hidden layer, we can a given the model the ability to capture high layers of abstraction in th data. However, increasing the depth of the model also increases the amount of data the model needs to converge to answer, because with a more complex model comes the \"Curse of Dimensionality\", thanks to all the extra trainable parameters that come from adding more size to our network. \n",
    "\n",
    "If there is complexity in the data that our smaller model was not big enough to catch, then a larger model may improve performance. However, if our dataset isn't big enough for the new, larger model, then we may see performance decrease as then model \"thrashes\" about a bit, failing to converge. Let's try and see what happens. \n",
    "\n",
    "In the cell below, recreate the model that you created above, with one exception. In the model below, add a second `Dense` layer with `'tanh'` activation functions and `5` neurons after the first. The network's output layer should still be a `Dense` layer with a single neuron and a sigmoid activation function, since this is still a binary classification task. \n",
    "\n",
    "Create, compile, and fit the model in the cells below, and then visualize the results to compare the history. "
   ]
  },
  {
   "cell_type": "code",
   "execution_count": 30,
   "metadata": {},
   "outputs": [
    {
     "name": "stdout",
     "output_type": "stream",
     "text": [
      "Train on 455 samples, validate on 114 samples\n",
      "Epoch 1/25\n",
      "455/455 [==============================] - 1s 2ms/step - loss: 0.2434 - acc: 0.8989 - val_loss: 0.1195 - val_acc: 0.9737\n",
      "Epoch 2/25\n",
      "455/455 [==============================] - 1s 2ms/step - loss: 0.1022 - acc: 0.9670 - val_loss: 0.1011 - val_acc: 0.9649\n",
      "Epoch 3/25\n",
      "455/455 [==============================] - 1s 2ms/step - loss: 0.0823 - acc: 0.9714 - val_loss: 0.0943 - val_acc: 0.9649\n",
      "Epoch 4/25\n",
      "455/455 [==============================] - 1s 2ms/step - loss: 0.0707 - acc: 0.9758 - val_loss: 0.0987 - val_acc: 0.9649\n",
      "Epoch 5/25\n",
      "455/455 [==============================] - 1s 2ms/step - loss: 0.0644 - acc: 0.9802 - val_loss: 0.0885 - val_acc: 0.9649\n",
      "Epoch 6/25\n",
      "455/455 [==============================] - 1s 2ms/step - loss: 0.0602 - acc: 0.9824 - val_loss: 0.0822 - val_acc: 0.9649\n",
      "Epoch 7/25\n",
      "455/455 [==============================] - 1s 2ms/step - loss: 0.0525 - acc: 0.9890 - val_loss: 0.1222 - val_acc: 0.9561\n",
      "Epoch 8/25\n",
      "455/455 [==============================] - 1s 2ms/step - loss: 0.0508 - acc: 0.9802 - val_loss: 0.0745 - val_acc: 0.9649\n",
      "Epoch 9/25\n",
      "455/455 [==============================] - 1s 2ms/step - loss: 0.0522 - acc: 0.9846 - val_loss: 0.0782 - val_acc: 0.9825\n",
      "Epoch 10/25\n",
      "455/455 [==============================] - 1s 2ms/step - loss: 0.0471 - acc: 0.9890 - val_loss: 0.0706 - val_acc: 0.9737\n",
      "Epoch 11/25\n",
      "455/455 [==============================] - 1s 2ms/step - loss: 0.0490 - acc: 0.9890 - val_loss: 0.0762 - val_acc: 0.9825\n",
      "Epoch 12/25\n",
      "455/455 [==============================] - 1s 1ms/step - loss: 0.0458 - acc: 0.9890 - val_loss: 0.0792 - val_acc: 0.9737\n",
      "Epoch 13/25\n",
      "455/455 [==============================] - 1s 2ms/step - loss: 0.0439 - acc: 0.9846 - val_loss: 0.0972 - val_acc: 0.9649\n",
      "Epoch 14/25\n",
      "455/455 [==============================] - 1s 2ms/step - loss: 0.0421 - acc: 0.9890 - val_loss: 0.0679 - val_acc: 0.9825\n",
      "Epoch 15/25\n",
      "455/455 [==============================] - 1s 2ms/step - loss: 0.0426 - acc: 0.9912 - val_loss: 0.0783 - val_acc: 0.9825\n",
      "Epoch 16/25\n",
      "455/455 [==============================] - 1s 2ms/step - loss: 0.0407 - acc: 0.9890 - val_loss: 0.1081 - val_acc: 0.9561\n",
      "Epoch 17/25\n",
      "455/455 [==============================] - 1s 2ms/step - loss: 0.0405 - acc: 0.9868 - val_loss: 0.0716 - val_acc: 0.9825\n",
      "Epoch 18/25\n",
      "455/455 [==============================] - 1s 2ms/step - loss: 0.0390 - acc: 0.9890 - val_loss: 0.0713 - val_acc: 0.9825\n",
      "Epoch 19/25\n",
      "455/455 [==============================] - 1s 2ms/step - loss: 0.0368 - acc: 0.9934 - val_loss: 0.0695 - val_acc: 0.9825\n",
      "Epoch 20/25\n",
      "455/455 [==============================] - 1s 2ms/step - loss: 0.0371 - acc: 0.9912 - val_loss: 0.0788 - val_acc: 0.9825\n",
      "Epoch 21/25\n",
      "455/455 [==============================] - 1s 2ms/step - loss: 0.0351 - acc: 0.9934 - val_loss: 0.0683 - val_acc: 0.9825\n",
      "Epoch 22/25\n",
      "455/455 [==============================] - 1s 2ms/step - loss: 0.0350 - acc: 0.9912 - val_loss: 0.0825 - val_acc: 0.9737\n",
      "Epoch 23/25\n",
      "455/455 [==============================] - 1s 2ms/step - loss: 0.0344 - acc: 0.9934 - val_loss: 0.0817 - val_acc: 0.9737\n",
      "Epoch 24/25\n",
      "455/455 [==============================] - 1s 1ms/step - loss: 0.0323 - acc: 0.9912 - val_loss: 0.0974 - val_acc: 0.9561\n",
      "Epoch 25/25\n",
      "455/455 [==============================] - 1s 1ms/step - loss: 0.0320 - acc: 0.9934 - val_loss: 0.0733 - val_acc: 0.9825\n"
     ]
    }
   ],
   "source": [
    "model_2 = Sequential()\n",
    "model_2.add(Dense(units=10, activation='tanh', input_shape=(30,)))\n",
    "model_2.add(Dense(units=5, activation='tanh'))\n",
    "model_2.add(Dense(units=1, activation='sigmoid'))\n",
    "model_2.compile(loss='binary_crossentropy', optimizer='sgd', metrics=['accuracy'])\n",
    "results_2 = model_2.fit(scaled_data, target, epochs=25, batch_size=1, validation_split=.2)"
   ]
  },
  {
   "cell_type": "code",
   "execution_count": null,
   "metadata": {},
   "outputs": [],
   "source": []
  },
  {
   "cell_type": "code",
   "execution_count": null,
   "metadata": {
    "scrolled": true
   },
   "outputs": [],
   "source": [
    "results_2 = None"
   ]
  },
  {
   "cell_type": "code",
   "execution_count": 31,
   "metadata": {
    "scrolled": true
   },
   "outputs": [
    {
     "data": {
      "image/png": "[encoded data removed]",
      "text/plain": [
       "<Figure size 432x288 with 1 Axes>"
      ]
     },
     "metadata": {
      "needs_background": "light"
     },
     "output_type": "display_data"
    },
    {
     "data": {
      "image/png": "[encoded data removed]",
      "text/plain": [
       "<Figure size 432x288 with 1 Axes>"
      ]
     },
     "metadata": {
      "needs_background": "light"
     },
     "output_type": "display_data"
    }
   ],
   "source": [
    "visualize_training_results(results_2)"
   ]
  },
  {
   "cell_type": "markdown",
   "metadata": {},
   "source": [
    "## What Happened?\n",
    "\n",
    "Although the final validation score for both models is the same, this model is clearly worse because it hasn't converged yet. We can tell because of the greater variance in the movement of the `val_loss` and `val_acc` lines. This suggests that we can remedy this in 1 of 2 ways:\n",
    "\n",
    "* Decrease the size of the network, OR\n",
    "* Increase the size of our training data. \n",
    "\n",
    "## Visualizing Why we Normalize Our Data\n",
    "\n",
    "As a final exercise, let's create a 3rd model that is the same as the first model we created for this exercise in every way. The only difference is that we will train it on our raw dataset, not the normalized version. This way, we can see how much of a difference normalizing our input data makes.\n",
    "\n",
    "Create, compile, and fit a model in the cell below. The only change in parameters will be using `data` instead of `scaled_data` during the `.fit()` step. "
   ]
  },
  {
   "cell_type": "code",
   "execution_count": 32,
   "metadata": {},
   "outputs": [
    {
     "name": "stdout",
     "output_type": "stream",
     "text": [
      "Train on 455 samples, validate on 114 samples\n",
      "Epoch 1/25\n",
      "455/455 [==============================] - 1s 2ms/step - loss: 0.6884 - acc: 0.5692 - val_loss: 0.6105 - val_acc: 0.7719\n",
      "Epoch 2/25\n",
      "455/455 [==============================] - 1s 2ms/step - loss: 0.6804 - acc: 0.5912 - val_loss: 0.6775 - val_acc: 0.7719\n",
      "Epoch 3/25\n",
      "455/455 [==============================] - 1s 2ms/step - loss: 0.6826 - acc: 0.5824 - val_loss: 0.5859 - val_acc: 0.7719\n",
      "Epoch 4/25\n",
      "455/455 [==============================] - 1s 2ms/step - loss: 0.6834 - acc: 0.5912 - val_loss: 0.6055 - val_acc: 0.7719\n",
      "Epoch 5/25\n",
      "455/455 [==============================] - 1s 2ms/step - loss: 0.6822 - acc: 0.5912 - val_loss: 0.6205 - val_acc: 0.7719\n",
      "Epoch 6/25\n",
      "455/455 [==============================] - 1s 2ms/step - loss: 0.6820 - acc: 0.5912 - val_loss: 0.6024 - val_acc: 0.7719\n",
      "Epoch 7/25\n",
      "455/455 [==============================] - 1s 2ms/step - loss: 0.6784 - acc: 0.5912 - val_loss: 0.6202 - val_acc: 0.7719\n",
      "Epoch 8/25\n",
      "455/455 [==============================] - 1s 2ms/step - loss: 0.6801 - acc: 0.5912 - val_loss: 0.6305 - val_acc: 0.7719\n",
      "Epoch 9/25\n",
      "455/455 [==============================] - 1s 2ms/step - loss: 0.6804 - acc: 0.5912 - val_loss: 0.6502 - val_acc: 0.7719\n",
      "Epoch 10/25\n",
      "455/455 [==============================] - 1s 2ms/step - loss: 0.6778 - acc: 0.5912 - val_loss: 0.6653 - val_acc: 0.7719\n",
      "Epoch 11/25\n",
      "455/455 [==============================] - 1s 2ms/step - loss: 0.6806 - acc: 0.5912 - val_loss: 0.5913 - val_acc: 0.7719\n",
      "Epoch 12/25\n",
      "455/455 [==============================] - 1s 2ms/step - loss: 0.6788 - acc: 0.5912 - val_loss: 0.6428 - val_acc: 0.7719\n",
      "Epoch 13/25\n",
      "455/455 [==============================] - 1s 2ms/step - loss: 0.6807 - acc: 0.5912 - val_loss: 0.6160 - val_acc: 0.7719\n",
      "Epoch 14/25\n",
      "455/455 [==============================] - 1s 3ms/step - loss: 0.6784 - acc: 0.5912 - val_loss: 0.6344 - val_acc: 0.7719\n",
      "Epoch 15/25\n",
      "455/455 [==============================] - 1s 2ms/step - loss: 0.6789 - acc: 0.5912 - val_loss: 0.6204 - val_acc: 0.7719\n",
      "Epoch 16/25\n",
      "455/455 [==============================] - 1s 2ms/step - loss: 0.6785 - acc: 0.5912 - val_loss: 0.5942 - val_acc: 0.7719\n",
      "Epoch 17/25\n",
      "455/455 [==============================] - 1s 2ms/step - loss: 0.6805 - acc: 0.5912 - val_loss: 0.6239 - val_acc: 0.7719\n",
      "Epoch 18/25\n",
      "455/455 [==============================] - 1s 2ms/step - loss: 0.6797 - acc: 0.5912 - val_loss: 0.6071 - val_acc: 0.7719\n",
      "Epoch 19/25\n",
      "455/455 [==============================] - 1s 2ms/step - loss: 0.6790 - acc: 0.5912 - val_loss: 0.5988 - val_acc: 0.7719\n",
      "Epoch 20/25\n",
      "455/455 [==============================] - 1s 2ms/step - loss: 0.6799 - acc: 0.5912 - val_loss: 0.6137 - val_acc: 0.7719\n",
      "Epoch 21/25\n",
      "455/455 [==============================] - 1s 2ms/step - loss: 0.6800 - acc: 0.5912 - val_loss: 0.6068 - val_acc: 0.7719\n",
      "Epoch 22/25\n",
      "455/455 [==============================] - 1s 2ms/step - loss: 0.6794 - acc: 0.5912 - val_loss: 0.6115 - val_acc: 0.7719\n",
      "Epoch 23/25\n",
      "455/455 [==============================] - 1s 2ms/step - loss: 0.6784 - acc: 0.5912 - val_loss: 0.5805 - val_acc: 0.7719\n",
      "Epoch 24/25\n",
      "455/455 [==============================] - 1s 2ms/step - loss: 0.6796 - acc: 0.5912 - val_loss: 0.5843 - val_acc: 0.7719\n",
      "Epoch 25/25\n",
      "455/455 [==============================] - 1s 2ms/step - loss: 0.6806 - acc: 0.5912 - val_loss: 0.5890 - val_acc: 0.7719\n"
     ]
    }
   ],
   "source": [
    "model_3 = Sequential()\n",
    "model_3.add(Dense(units=10, activation='tanh', input_shape=(30,)))\n",
    "model_3.add(Dense(units=5, activation='tanh'))\n",
    "model_3.add(Dense(units=1, activation='sigmoid'))\n",
    "model_3.compile(loss='binary_crossentropy', optimizer='sgd', metrics=['accuracy'])\n",
    "results_3 = model_3.fit(data, target, epochs=25, batch_size=1, validation_split=.2)\n"
   ]
  },
  {
   "cell_type": "code",
   "execution_count": null,
   "metadata": {},
   "outputs": [],
   "source": []
  },
  {
   "cell_type": "code",
   "execution_count": null,
   "metadata": {},
   "outputs": [],
   "source": [
    "results_3 = None"
   ]
  },
  {
   "cell_type": "code",
   "execution_count": 33,
   "metadata": {},
   "outputs": [
    {
     "data": {
      "image/png": "[encoded data removed]",
      "text/plain": [
       "<Figure size 432x288 with 1 Axes>"
      ]
     },
     "metadata": {
      "needs_background": "light"
     },
     "output_type": "display_data"
    },
    {
     "data": {
      "image/png": "[encoded data removed]",
      "text/plain": [
       "<Figure size 432x288 with 1 Axes>"
      ]
     },
     "metadata": {
      "needs_background": "light"
     },
     "output_type": "display_data"
    }
   ],
   "source": [
    "visualize_training_results(results_3)"
   ]
  },
  {
   "cell_type": "markdown",
   "metadata": {},
   "source": [
    "Wow! Our results were much worse--over 20% poorer performance when working with non-normalized input data!  \n",
    "\n",
    "\n",
    "## Summary\n",
    "\n",
    "In this lab, we got some practice creating **_Multi-Layer Perceptrons_**, and explored how things like the number of layers in a model and data normalization affect our overall training results!"
   ]
  }
 ],
 "metadata": {
  "kernelspec": {
   "display_name": "Python 3",
   "language": "python",
   "name": "python3"
  },
  "language_info": {
   "codemirror_mode": {
    "name": "ipython",
    "version": 3
   },
   "file_extension": ".py",
   "mimetype": "text/x-python",
   "name": "python",
   "nbconvert_exporter": "python",
   "pygments_lexer": "ipython3",
   "version": "3.6.6"
  }
 },
 "nbformat": 4,
 "nbformat_minor": 2
}
